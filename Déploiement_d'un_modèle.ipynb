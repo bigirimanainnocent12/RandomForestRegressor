{
  "nbformat": 4,
  "nbformat_minor": 0,
  "metadata": {
    "colab": {
      "provenance": [],
      "authorship_tag": "ABX9TyMqDlUOijAFiR0F26k+x/Kd",
      "include_colab_link": true
    },
    "kernelspec": {
      "name": "python3",
      "display_name": "Python 3"
    },
    "language_info": {
      "name": "python"
    }
  },
  "cells": [
    {
      "cell_type": "markdown",
      "metadata": {
        "id": "view-in-github",
        "colab_type": "text"
      },
      "source": [
        "<a href=\"https://colab.research.google.com/github/bigirimanainnocent12/RandomForestRegressor/blob/main/D%C3%A9ploiement_d'un_mod%C3%A8le.ipynb\" target=\"_parent\"><img src=\"https://colab.research.google.com/assets/colab-badge.svg\" alt=\"Open In Colab\"/></a>"
      ]
    },
    {
      "cell_type": "code",
      "source": [
        "import os\n",
        "dir_path = \"C:/Users/Utilisateur/Desktop/APPLICATION MODELE\"\n",
        "if not os.path.exists(dir_path):\n",
        "    os.makedirs(dir_path)\n",
        "    print(f\"Directory '{dir_path}' created.\")\n",
        "else:\n",
        "    print(f\"Directory '{dir_path}' already exists.\")\n",
        "\n",
        "print(\"Répertoire courant :\", os.getcwd())"
      ],
      "metadata": {
        "id": "J08Y9eaKIwXh",
        "outputId": "0d5c4680-b642-4bf3-86d9-44498167eee9",
        "colab": {
          "base_uri": "https://localhost:8080/"
        }
      },
      "execution_count": 1,
      "outputs": [
        {
          "output_type": "stream",
          "name": "stdout",
          "text": [
            "Directory 'C:/Users/Utilisateur/Desktop/APPLICATION MODELE' created.\n",
            "Répertoire courant : /content\n"
          ]
        }
      ]
    },
    {
      "cell_type": "code",
      "execution_count": 2,
      "metadata": {
        "id": "mQoDNW6GHZbp",
        "outputId": "99d40b02-7ddc-4f5f-f6b6-1fbc02283da6",
        "colab": {
          "base_uri": "https://localhost:8080/"
        }
      },
      "outputs": [
        {
          "output_type": "stream",
          "name": "stdout",
          "text": [
            "Writing application.py\n"
          ]
        }
      ],
      "source": [
        "%%writefile application.py\n",
        "import streamlit as st\n",
        "import joblib\n",
        "import pandas as pd\n",
        "\n",
        "\n",
        "@st.cache_resource\n",
        "def load_model():\n",
        "\n",
        "    try:\n",
        "        with open(\"C:/Users/Utilisateur/Desktop/APPLICATION MODELE/modele.pkl\", \"rb\") as file:\n",
        "            model = joblib.load(file)\n",
        "        return model\n",
        "    except Exception as e:\n",
        "        st.error(f\"Erreur lors du chargement du modèle : {str(e)}\")\n",
        "        return None\n",
        "\n",
        "model = load_model()\n",
        "\n",
        "\n",
        "if model and not hasattr(model, \"predict\"):\n",
        "    st.error(\"Le modèle chargé n'a pas de méthode 'predict'. Vérifiez que vous avez bien enregistré un modèle scikit-learn valide.\")\n",
        "elif not model:\n",
        "    st.error(\"Le modèle n'a pas pu être chargé correctement. Veuillez vérifier le fichier.\")\n",
        "\n",
        "\n",
        "st.title(\"Déploiement d'un modèle RandomForestRegressor()\")\n",
        "\n",
        "\n",
        "st.image(\"C:/Users/Utilisateur/Desktop/APPLICATION MODELE/image.jpg\", caption=\"Photo\", use_column_width=True)\n",
        "\n",
        "st.subheader(\"Simuler vos dépenses médicales\")\n",
        "\n",
        "\n",
        "age = st.number_input(\"Quel âge avez-vous ?\", min_value=0, step=1, format=\"%d\")\n",
        "sex = st.radio(\"Quel est votre sexe ?\", [\"Homme\", \"Femme\"])\n",
        "bmi = st.number_input(\"Quel est votre IMC (Indice de Masse Corporelle) ?\", min_value=0.0, step=0.1, format=\"%.1f\")\n",
        "children = st.number_input(\"Nombre d'enfants\", min_value=0, step=1, format=\"%d\")\n",
        "smoker = st.radio(\"Est-ce que vous fumez ?\", [\"Oui\", \"Non\"])\n",
        "region = st.radio(\"Quelle est votre région ?\", [\"Nord\", \"Sud\", \"Est\", \"Ouest\"])\n",
        "\n",
        "if st.button(\"Simulation\"):\n",
        "    try:\n",
        "\n",
        "        st.subheader(\"Données saisies par le client :\")\n",
        "        donne = pd.DataFrame({\n",
        "            \"Age\": [age],\n",
        "            \"Sexe\": [sex],\n",
        "            \"Indice de Masse Corporelle\": [bmi],\n",
        "            \"Nombre d'enfants\": [children],\n",
        "            \"Fumeur\": [smoker],\n",
        "            \"Région\": [region]\n",
        "        })\n",
        "        st.write(donne)\n",
        "\n",
        "\n",
        "        sex_encoded = False if sex == \"Femme\" else True\n",
        "        smoker_encoded = True if smoker == \"Oui\" else False\n",
        "\n",
        "        input_data = pd.DataFrame({\n",
        "            'age': [age],\n",
        "            'sex': [sex_encoded],\n",
        "            'bmi': [bmi],\n",
        "            'children': [children],\n",
        "            'smoker': [smoker_encoded],\n",
        "            'region': [region]\n",
        "        })\n",
        "\n",
        "\n",
        "        if model:\n",
        "            prediction = model.predict(input_data)\n",
        "            st.success(f\"Les dépenses médicales pour ce client seront : {prediction[0]:.2f} $\")\n",
        "        else:\n",
        "            st.error(\"Le modèle n'est pas disponible pour effectuer la prédiction.\")\n",
        "    except Exception as e:\n",
        "        st.error(f\"Une erreur est survenue : {str(e)}\")\n"
      ]
    }
  ]
}